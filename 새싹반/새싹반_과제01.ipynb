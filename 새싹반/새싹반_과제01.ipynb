{
 "cells": [
  {
   "cell_type": "markdown",
   "metadata": {
    "id": "fD4Qab2qYgOm"
   },
   "source": [
    "안녕하세요. 수강생 여러분~! \n",
    "\n",
    "Chapter01 ~ 13의 수업 내용을 바탕으로 아래 문제를 풀어주시면 됩니다 !\n",
    "\n",
    "지금까지 잘 해오셨으니까, 총 복습한다고 생각하시고 한번 도전해보세요 !!!\n",
    "\n",
    "\n",
    "<br>\n",
    "\n",
    "\n",
    "[**답변 입력 방법**]\n",
    "\n",
    "문제 아래에 있는 코드 입력창에 정답코드를 작성하신 후  __▷ 버튼을 클릭해 코드를 실행__ 해보세요<br>"
   ]
  },
  {
   "cell_type": "markdown",
   "metadata": {},
   "source": [
    "---"
   ]
  },
  {
   "cell_type": "markdown",
   "metadata": {},
   "source": [
    "### 프로젝트: 간단한 ATM 관리 시스템\n",
    "<br>\n",
    "\n",
    "__[문제 1: 잔액 확인]__\n",
    "\n",
    "현재 잔액은 1000원입니다. 현재 잔액을 출력하세요. \n",
    "\n",
    "(변수명 예시 : 잔액 - balance)"
   ]
  },
  {
   "cell_type": "code",
   "execution_count": 164,
   "metadata": {},
   "outputs": [
    {
     "name": "stdout",
     "output_type": "stream",
     "text": [
      "잔액 1000 원\n"
     ]
    }
   ],
   "source": [
    "#현재 잔액을 출력하세요, 잔액은 1000원, 변수명 balance로 정한다.\n",
    "balance = 1000\n",
    "print(\"잔액\", balance,\"원\") "
   ]
  },
  {
   "cell_type": "markdown",
   "metadata": {},
   "source": [
    "__[문제 2: 입금]__\n",
    "\n",
    "가지고 있는 돈을 입금합니다.\n",
    "\n",
    "입금 금액을 입력받고, 잔액을 갱신한 후 새로운 잔액을 출력하세요. 입금 거래를 영수증 리스트에 기록하세요.\n",
    "\n",
    "- 입금 금액은 input()을 이용해 받습니다.\n",
    "- 영수증은 list()로 선언합니다.\n",
    "- 영수증에 들어가는 정보는 튜플 형태입니다.\n",
    "- 튜플에 담기는 정보는 (입금 or 출금, 입금 or 출금 금액, 현재 잔액)순 입니다.\n",
    "\n",
    "(변수명 예시: 영수증 리스트 - receipts, 입금 금액 - deposit_amount)\n"
   ]
  },
  {
   "cell_type": "code",
   "execution_count": 169,
   "metadata": {},
   "outputs": [
    {
     "name": "stdout",
     "output_type": "stream",
     "text": [
      "입금 5000 원\n",
      "현재 잔액 6000 원\n",
      "('입금', 5000, '현재잔액', 6000)\n"
     ]
    }
   ],
   "source": [
    "\n",
    "# 가지고 있는 돈을 입금하여 입금 금액을 입력 받는다.\n",
    "# input() 이용하고, input이 실행되면 입금금액은 5000원으로 입력한다.\n",
    "deposit_amount = int(input())\n",
    "print(\"입금\", int(deposit_amount),\"원\")\n",
    "\n",
    "# 잔액을 갱신하고 새로운 잔액을 출력한다.\n",
    "blance = 1000\n",
    "balance += deposit_amount\n",
    "print(\"현재 잔액\", balance, \"원\")\n",
    "\n",
    "# 영수증을 list()로 선언하고 영수증을 리스트에 기록한다.\n",
    "# 영수증에 들어가는 정보는 튜플형이다.\n",
    "# 튜플에 담기는 정보는 (입금, 입금금액, 현재잔액) 순이다.\n",
    "receipts = (\"입금\",deposit_amount,\"현재잔액\",balance)\n",
    "print(receipts)"
   ]
  },
  {
   "cell_type": "markdown",
   "metadata": {},
   "source": [
    "__[문제 3: 출금]__\n",
    "\n",
    "사용자가 돈을 출금합니다. 출금 금액을 입력받고, 잔액을 갱신한 후 새로운 잔액을 출력하세요. 출금 거래를 영수증 리스트에 기록하세요. \n",
    "\n",
    "- 출금 금액은 input()을 이용해 받습니다.\n",
    "- 현재 잔액보다 출금 요청 금액이 많을 경우 현재 잔액 만큼만 출금되도록 합니다.\n",
    "- 영수증에 들어가는 정보는 튜플 형태입니다.\n",
    "- 튜플에 담기는 정보는 (입금 or 출금, 입금 or 출금 금액, 현재 잔액)순 입니다.\n",
    "\n",
    "(변수명 예시: 출금금액 - withdraw_amount)"
   ]
  },
  {
   "cell_type": "code",
   "execution_count": null,
   "metadata": {},
   "outputs": [
    {
     "name": "stdout",
     "output_type": "stream",
     "text": [
      "출금 2000 원\n",
      "현재잔액 4000 원\n",
      "('출금', 2000, '현재잔액', 4000)\n"
     ]
    }
   ],
   "source": [
    "# 사용자가 돈을 출금하여 출금금액을 입력받는다. intput() 이용하고, 출금금액 2000원으로 한다.\n",
    "withdraw_ammount = int(input())\n",
    "print(\"출금\", withdraw_ammount, \"원\")\n",
    " \n",
    "# 잔액을 갱신한 후, 새로운 잔액을 출력한다.(잔액 기준은 문제 2번 입금 후 잔액의 값으로 한다.)\n",
    "balance -= withdraw_ammount\n",
    "print(\"현재잔액\", balance,\"원\")\n",
    "\n",
    "# 출금영수증 변수명 withdraw_receipts\n",
    "# 영수증을 list()로 선언하고 영수증을 리스트에 기록한다.\n",
    "# 영수증에 들어가는 정보는 튜플형이다.\n",
    "# 튜플에 담기는 정보는 (출금, 출금금액, 현재잔액) 순이다.\n",
    "withdraw_receipts = (\"출금\", withdraw_ammount, \"현재잔액\", balance,)\n",
    "print(withdraw_receipts)"
   ]
  },
  {
   "cell_type": "markdown",
   "metadata": {},
   "source": [
    "__[문제 4: 모든 거래 내역 확인]__\n",
    "\n",
    "모든 거래 내역(영수증)을 요청받았을 때 출력하세요.\n",
    "- 지금까지 영수증에 추가된 정보를 출력합니다.\n",
    "- 출력 형태는 자유입니다."
   ]
  },
  {
   "cell_type": "code",
   "execution_count": 171,
   "metadata": {},
   "outputs": [
    {
     "name": "stdout",
     "output_type": "stream",
     "text": [
      "입금 5000 원 출금 2000 원 현재잔액 4000 원\n"
     ]
    }
   ],
   "source": [
    "# 모든 거래내역(영수증)을 요청받는다\n",
    "# 모든 거래내역은 각 변수명으로 입력하여 출력한다.\n",
    "print(\"입금\",deposit_amount,\"원\",   \"출금\", withdraw_ammount,\"원\",   \"현재잔액\", balance,\"원\")\n",
    "\n"
   ]
  }
 ],
 "metadata": {
  "colab": {
   "authorship_tag": "ABX9TyOA/CeX7CUdbTKFxV0fsocV",
   "provenance": []
  },
  "kernelspec": {
   "display_name": "Python 3",
   "name": "python3"
  },
  "language_info": {
   "codemirror_mode": {
    "name": "ipython",
    "version": 3
   },
   "file_extension": ".py",
   "mimetype": "text/x-python",
   "name": "python",
   "nbconvert_exporter": "python",
   "pygments_lexer": "ipython3",
   "version": "3.9.6"
  }
 },
 "nbformat": 4,
 "nbformat_minor": 0
}
